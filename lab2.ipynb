{
 "cells": [
  {
   "cell_type": "code",
   "execution_count": 1,
   "metadata": {},
   "outputs": [],
   "source": [
    "import itertools\n",
    "import pandas as pd\n",
    "import numpy as np\n"
   ]
  },
  {
   "cell_type": "code",
   "execution_count": 7,
   "metadata": {},
   "outputs": [],
   "source": [
    "#scenarioA function:\n",
    "#m = number of dice\n",
    "#n = number of sides on die\n",
    "#x = sum of the dice greater than ___\n",
    "def A_function(m, n, x):\n",
    "    #rolls - lists all possible  rolls\n",
    "    rolls = list(itertools.product(range(1,n+1), repeat=m))\n",
    "    #sums - finds the sum of all possible rolls\n",
    "    sums = np.array([sum(roll) for roll in rolls])\n",
    "    #find the proportion of those sums that are greater than or equal to the target\n",
    "    return(np.mean(sums > x))\n",
    "\n",
    "\n",
    "\n"
   ]
  },
  {
   "cell_type": "code",
   "execution_count": 8,
   "metadata": {},
   "outputs": [
    {
     "name": "stdout",
     "output_type": "stream",
     "text": [
      "probability of rolling 1 dice, each with 6 sides, and having the sume of the dice be greater than 5: 0.16666666666666666\n"
     ]
    }
   ],
   "source": [
    "#Scenario A\n",
    "def scenario_A():\n",
    "    m = int(input(\"number of dice\"))\n",
    "    n = int(input(\"number of sides\"))\n",
    "    x = int(input(\"sum greater than ___\"))\n",
    "    probability_A = A_function(m, n, x)\n",
    "    print(f'probability of rolling {m} dice, each with {n} sides, and having the sum of the dice be greater than {x}: {probability_A}')\n",
    "\n",
    "scenario_A()\n"
   ]
  },
  {
   "cell_type": "code",
   "execution_count": 9,
   "metadata": {},
   "outputs": [
    {
     "name": "stdout",
     "output_type": "stream",
     "text": [
      "probability of rolling 1 dice, each with 20 sides, and having the sum of the dice be greater than 17: 0.15\n",
      "probability of rolling 3 dice, each with 4 sides, and having the sum of the dice be greater than 10: 0.0625\n"
     ]
    }
   ],
   "source": [
    "#player is in a challenging situation where they have a choice. they can choose between the following challenges:\n",
    "prob_1d20_17_or_more = A_function(1, 20, 17)\n",
    "prob_3d4_10_or_more = A_function(3, 4, 10)\n",
    "\n",
    "print(f'choice 1: probability of rolling 1 dice, each with 20 sides, and having the sum of the dice be greater than 17: {prob_1d20_17_or_more}')\n",
    "print(f'choice 2: probability of rolling 3 dice, each with 4 sides, and having the sum of the dice be greater than 10: {prob_3d4_10_or_more}')\n"
   ]
  },
  {
   "cell_type": "code",
   "execution_count": 9,
   "metadata": {},
   "outputs": [
    {
     "name": "stdout",
     "output_type": "stream",
     "text": [
      "choice 3: probability of rolling 4 dice, each with 6 sides, and getting at least one 6: 0.5177469135802468\n"
     ]
    }
   ],
   "source": [
    "def scenario_B(m, n, x):\n",
    "    if x > n:\n",
    "        print(\"Cannot roll a number greater than the number of sides\")\n",
    "    if x < 1:\n",
    "        print(\"Please enter a positive integer\")\n",
    "    if x == 1:\n",
    "        return 1\n",
    "    \n",
    "    p_one_less_than_x = (x - 1) / n\n",
    "    p_all_less_than_x = p_one_less_than_x ** m\n",
    "    return 1 - p_all_less_than_x\n",
    "\n",
    "print(f'choice 3: probability of rolling 4 dice, each with 6 sides, and getting at least one 6: {scenario_B(4, 6, 6)}')"
   ]
  },
  {
   "cell_type": "markdown",
   "metadata": {},
   "source": []
  }
 ],
 "metadata": {
  "kernelspec": {
   "display_name": "Python 3",
   "language": "python",
   "name": "python3"
  },
  "language_info": {
   "codemirror_mode": {
    "name": "ipython",
    "version": 3
   },
   "file_extension": ".py",
   "mimetype": "text/x-python",
   "name": "python",
   "nbconvert_exporter": "python",
   "pygments_lexer": "ipython3",
   "version": "3.11.4"
  }
 },
 "nbformat": 4,
 "nbformat_minor": 2
}
